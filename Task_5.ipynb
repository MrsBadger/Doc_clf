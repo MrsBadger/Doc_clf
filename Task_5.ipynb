{
 "cells": [
  {
   "cell_type": "markdown",
   "metadata": {},
   "source": [
    "## Часть 1\n",
    "Напишите скрипт, который скачивает все данные с выборов губернатора СПб 2019г для всех избирательных участков. \n",
    "\n",
    "Входная точка [по ссылке](http://notelections.online/region/region/st-petersburg?action=show&root=1&tvd=27820001217417&vrn=27820001217413&region=78&global=&sub_region=78&prver=0&pronetvd=null&vibid=27820001217417&type=222). Затем нужно перейти на сайты территориальных избирательных комиссий. Результаты нужно сохранить в  `cvs`-файл, `sqlite` базе данных или `parquet`-файле. В итоге должна получиться таблица с полями:\n",
    "- название ТИК (территориальная избирательная комиссия, некоторое объединение избирательных участков на определенной территории)\n",
    "- номер УИК (избирательный участок)\n",
    "- 14 стандартных полей из итогового протокола\n",
    "\n",
    "Скрипт должен быть в отдельном `*.py` файле или в отдельном `jupyter`-ноутбуке. "
   ]
  },
  {
   "cell_type": "markdown",
   "metadata": {},
   "source": [
    "### Часть 2\n",
    "Используя скаченные данные и `Pandas` (или `PySpark`) посчитайте:\n",
    "- явку (%) по всем ТИК, результат отсортировать по убыванию\n",
    "- выберите произвольного кандидата и найдите тот избиратльный участок, на котором он получил наибольший результат  (%, учитывать участки на которых проголосовало больше 100 человек)\n",
    "- найдите ТИК, где разница между УИК с наибольшей явкой и наименьшей максимальна\n",
    "- посчитайте дисперсию по явке для каждого ТИК (учитывать УИК)\n",
    "- для каждого кандидата посчитайте таблицу: результат (%, округленный до целого) - количество УИК, на которых кандидат получил данный результат\n",
    "- визуализируйте отношение - явка на УИК $\\rightarrow$ результат кандидата. "
   ]
  },
  {
   "cell_type": "code",
   "execution_count": 5,
   "metadata": {},
   "outputs": [],
   "source": [
    "import numpy as np\n",
    "from matplotlib import pyplot as plt\n",
    "import seaborn as sns\n",
    "import pandas as pd\n",
    "\n",
    "\n",
    "import requests\n",
    "from bs4 import BeautifulSoup\n",
    "import re"
   ]
  },
  {
   "cell_type": "markdown",
   "metadata": {},
   "source": [
    "# Parser"
   ]
  },
  {
   "cell_type": "code",
   "execution_count": 84,
   "metadata": {},
   "outputs": [],
   "source": [
    "import requests\n",
    "from bs4 import BeautifulSoup\n",
    "import re\n",
    "import pandas as pd\n",
    "import math as m"
   ]
  },
  {
   "cell_type": "code",
   "execution_count": 78,
   "metadata": {},
   "outputs": [],
   "source": [
    "def get_html(url):\n",
    "    r = requests.get(url)\n",
    "    return r\n",
    "\n",
    "def extract_values(row):\n",
    "    values = []\n",
    "    row_values = row.find_all('td')\n",
    "    for row_value in row_values:\n",
    "        values.append(int(re.findall(r'\\d+', row_value.text)[0]))\n",
    "    return values\n",
    "\n",
    "def parse(html,n_tik):    \n",
    "    soup = BeautifulSoup(html.text, 'html.parser')\n",
    "    table = soup.find_all('table')[-1]\n",
    "    rows = table.find_all('tr')\n",
    "    clear_rows = []\n",
    "    for i, row in enumerate(rows):\n",
    "        if i == 12:\n",
    "            continue\n",
    "        clear_rows.append(extract_values(row))\n",
    "    data_tik = pd.DataFrame(data=clear_rows).transpose()\n",
    "    data_tik['tik'] = [n_tik + 1 for _ in range (len(clear_rows[0]))]\n",
    "    data_tik['uik'] = [clear_rows[0][i] for i in range(len(clear_rows[0]))]\n",
    "    data_tik = data_tik[['tik', 'uik', 1, 2, 3, 4, 5, 6, 7, 8, 9, 10, 11, 12, 13, 14]]\n",
    "    return data_tik"
   ]
  },
  {
   "cell_type": "code",
   "execution_count": 79,
   "metadata": {},
   "outputs": [],
   "source": [
    "URL = 'http://notelections.online/region/region/st-petersburg?action=show&root=1&tvd=27820001217417&vrn=27820001217413&region=78&global=&sub_region=78&prver=0&pronetvd=null&vibid=27820001217417&type=222'\n",
    "HOST = 'http://notelections.online'"
   ]
  },
  {
   "cell_type": "code",
   "execution_count": 80,
   "metadata": {},
   "outputs": [],
   "source": [
    "html = get_html(URL)\n",
    "soup = BeautifulSoup(html.text, 'html.parser')\n",
    "links_in_html = soup.find_all('a', href=True)\n",
    "\n",
    "good_links = []\n",
    "\n",
    "for link in links_in_html:\n",
    "    if link['href'].startswith('/region/region/st-petersburg') and link['href'].endswith('222'):\n",
    "        good_links.append(HOST + link['href'])\n",
    "        \n",
    "del(links_in_html)"
   ]
  },
  {
   "cell_type": "code",
   "execution_count": 81,
   "metadata": {},
   "outputs": [],
   "source": [
    "list_data_tik = []\n",
    "for n_tik, link in enumerate(good_links):\n",
    "    html_tik = get_html(link)\n",
    "    list_data_tik.append(parse(html_tik,n_tik))\n",
    "\n",
    "data = pd.concat(list_data_tik,axis=0)"
   ]
  },
  {
   "cell_type": "code",
   "execution_count": 82,
   "metadata": {},
   "outputs": [],
   "source": [
    "data.index = [i for i in range(0, 2021)]\n",
    "data = data.rename(columns = {12: 'Amosov', 13: 'Beglov', 14: 'Tihonova'})"
   ]
  },
  {
   "cell_type": "code",
   "execution_count": 83,
   "metadata": {},
   "outputs": [
    {
     "data": {
      "text/html": [
       "<div>\n",
       "<style scoped>\n",
       "    .dataframe tbody tr th:only-of-type {\n",
       "        vertical-align: middle;\n",
       "    }\n",
       "\n",
       "    .dataframe tbody tr th {\n",
       "        vertical-align: top;\n",
       "    }\n",
       "\n",
       "    .dataframe thead th {\n",
       "        text-align: right;\n",
       "    }\n",
       "</style>\n",
       "<table border=\"1\" class=\"dataframe\">\n",
       "  <thead>\n",
       "    <tr style=\"text-align: right;\">\n",
       "      <th></th>\n",
       "      <th>tik</th>\n",
       "      <th>uik</th>\n",
       "      <th>1</th>\n",
       "      <th>2</th>\n",
       "      <th>3</th>\n",
       "      <th>4</th>\n",
       "      <th>5</th>\n",
       "      <th>6</th>\n",
       "      <th>7</th>\n",
       "      <th>8</th>\n",
       "      <th>9</th>\n",
       "      <th>10</th>\n",
       "      <th>11</th>\n",
       "      <th>Amosov</th>\n",
       "      <th>Beglov</th>\n",
       "      <th>Tihonova</th>\n",
       "    </tr>\n",
       "  </thead>\n",
       "  <tbody>\n",
       "    <tr>\n",
       "      <th>0</th>\n",
       "      <td>1</td>\n",
       "      <td>1</td>\n",
       "      <td>1803</td>\n",
       "      <td>1200</td>\n",
       "      <td>587</td>\n",
       "      <td>11</td>\n",
       "      <td>602</td>\n",
       "      <td>11</td>\n",
       "      <td>587</td>\n",
       "      <td>23</td>\n",
       "      <td>575</td>\n",
       "      <td>0</td>\n",
       "      <td>0</td>\n",
       "      <td>110</td>\n",
       "      <td>345</td>\n",
       "      <td>120</td>\n",
       "    </tr>\n",
       "    <tr>\n",
       "      <th>1</th>\n",
       "      <td>1</td>\n",
       "      <td>2</td>\n",
       "      <td>1466</td>\n",
       "      <td>1100</td>\n",
       "      <td>433</td>\n",
       "      <td>14</td>\n",
       "      <td>653</td>\n",
       "      <td>14</td>\n",
       "      <td>430</td>\n",
       "      <td>19</td>\n",
       "      <td>425</td>\n",
       "      <td>0</td>\n",
       "      <td>0</td>\n",
       "      <td>53</td>\n",
       "      <td>326</td>\n",
       "      <td>46</td>\n",
       "    </tr>\n",
       "    <tr>\n",
       "      <th>2</th>\n",
       "      <td>1</td>\n",
       "      <td>3</td>\n",
       "      <td>2092</td>\n",
       "      <td>1600</td>\n",
       "      <td>576</td>\n",
       "      <td>22</td>\n",
       "      <td>1002</td>\n",
       "      <td>22</td>\n",
       "      <td>576</td>\n",
       "      <td>15</td>\n",
       "      <td>583</td>\n",
       "      <td>0</td>\n",
       "      <td>0</td>\n",
       "      <td>155</td>\n",
       "      <td>332</td>\n",
       "      <td>96</td>\n",
       "    </tr>\n",
       "    <tr>\n",
       "      <th>3</th>\n",
       "      <td>1</td>\n",
       "      <td>4</td>\n",
       "      <td>1056</td>\n",
       "      <td>1000</td>\n",
       "      <td>318</td>\n",
       "      <td>4</td>\n",
       "      <td>678</td>\n",
       "      <td>4</td>\n",
       "      <td>318</td>\n",
       "      <td>13</td>\n",
       "      <td>309</td>\n",
       "      <td>0</td>\n",
       "      <td>0</td>\n",
       "      <td>67</td>\n",
       "      <td>171</td>\n",
       "      <td>71</td>\n",
       "    </tr>\n",
       "    <tr>\n",
       "      <th>4</th>\n",
       "      <td>1</td>\n",
       "      <td>5</td>\n",
       "      <td>1827</td>\n",
       "      <td>1400</td>\n",
       "      <td>495</td>\n",
       "      <td>8</td>\n",
       "      <td>897</td>\n",
       "      <td>8</td>\n",
       "      <td>493</td>\n",
       "      <td>16</td>\n",
       "      <td>485</td>\n",
       "      <td>0</td>\n",
       "      <td>0</td>\n",
       "      <td>137</td>\n",
       "      <td>266</td>\n",
       "      <td>82</td>\n",
       "    </tr>\n",
       "  </tbody>\n",
       "</table>\n",
       "</div>"
      ],
      "text/plain": [
       "   tik  uik     1     2    3   4     5   6    7   8    9  10  11  Amosov  \\\n",
       "0    1    1  1803  1200  587  11   602  11  587  23  575   0   0     110   \n",
       "1    1    2  1466  1100  433  14   653  14  430  19  425   0   0      53   \n",
       "2    1    3  2092  1600  576  22  1002  22  576  15  583   0   0     155   \n",
       "3    1    4  1056  1000  318   4   678   4  318  13  309   0   0      67   \n",
       "4    1    5  1827  1400  495   8   897   8  493  16  485   0   0     137   \n",
       "\n",
       "   Beglov  Tihonova  \n",
       "0     345       120  \n",
       "1     326        46  \n",
       "2     332        96  \n",
       "3     171        71  \n",
       "4     266        82  "
      ]
     },
     "execution_count": 83,
     "metadata": {},
     "output_type": "execute_result"
    }
   ],
   "source": [
    "data.head()"
   ]
  },
  {
   "cell_type": "markdown",
   "metadata": {},
   "source": [
    "явка (%) по всем ТИК, результат отсортировать по убыванию"
   ]
  },
  {
   "cell_type": "code",
   "execution_count": 55,
   "metadata": {},
   "outputs": [
    {
     "name": "stdout",
     "output_type": "stream",
     "text": [
      "Явка: 51.53 % ТИК: 18\n",
      "Явка: 40.01 % ТИК: 15\n",
      "Явка: 39.67 % ТИК: 13\n",
      "Явка: 37.81 % ТИК: 19\n",
      "Явка: 36.04 % ТИК: 8\n",
      "Явка: 33.78 % ТИК: 20\n",
      "Явка: 33.52 % ТИК: 9\n",
      "Явка: 32.49 % ТИК: 22\n",
      "Явка: 32.10 % ТИК: 30\n",
      "Явка: 31.79 % ТИК: 2\n",
      "Явка: 31.48 % ТИК: 1\n",
      "Явка: 30.77 % ТИК: 29\n",
      "Явка: 30.52 % ТИК: 10\n",
      "Явка: 30.43 % ТИК: 4\n",
      "Явка: 29.25 % ТИК: 7\n",
      "Явка: 29.14 % ТИК: 21\n",
      "Явка: 29.02 % ТИК: 25\n",
      "Явка: 28.44 % ТИК: 17\n",
      "Явка: 28.19 % ТИК: 23\n",
      "Явка: 28.19 % ТИК: 16\n",
      "Явка: 27.52 % ТИК: 14\n",
      "Явка: 27.22 % ТИК: 28\n",
      "Явка: 26.88 % ТИК: 11\n",
      "Явка: 26.75 % ТИК: 5\n",
      "Явка: 26.65 % ТИК: 24\n",
      "Явка: 26.62 % ТИК: 3\n",
      "Явка: 26.41 % ТИК: 12\n",
      "Явка: 26.26 % ТИК: 26\n",
      "Явка: 25.01 % ТИК: 6\n",
      "Явка: 24.79 % ТИК: 27\n"
     ]
    }
   ],
   "source": [
    "yavka_tik = []\n",
    "\n",
    "for num_tik in range(1, 31):\n",
    "    yavka_tik.append (((np.sum(data[data['tik'] == num_tik][3]) + (np.sum(data[data['tik'] == num_tik][4]))) / np.sum((data[data['tik'] == num_tik][1])) * 100, num_tik))\n",
    "\n",
    "for tik in sorted(yavka_tik, reverse=True):\n",
    "    print (f'Явка: {tik[0]:.2f} % ТИК: {tik[1]}')"
   ]
  },
  {
   "cell_type": "markdown",
   "metadata": {},
   "source": [
    "выберите произвольного кандидата и найдите тот избиратльный участок, на котором он получил наибольший результат (%, учитывать участки на которых проголосовало больше 100 человек)"
   ]
  },
  {
   "cell_type": "code",
   "execution_count": 56,
   "metadata": {},
   "outputs": [
    {
     "name": "stdout",
     "output_type": "stream",
     "text": [
      "УИК № : 2283\n"
     ]
    }
   ],
   "source": [
    "new_data = data[(data[3] + data[4]) > 100]\n",
    "\n",
    "print('УИК № :',data.iloc[(new_data['Tihonova'] / (new_data[9])).idxmax()]['uik'])"
   ]
  },
  {
   "cell_type": "markdown",
   "metadata": {},
   "source": [
    "найдите ТИК, где разница между УИК с наибольшей явкой и наименьшей максимальна"
   ]
  },
  {
   "cell_type": "code",
   "execution_count": 73,
   "metadata": {},
   "outputs": [
    {
     "name": "stdout",
     "output_type": "stream",
     "text": [
      "ТИК:  17\n",
      "min     0.17958\n",
      "max     1.00000\n",
      "tik    17.00000\n",
      "Name: 17, dtype: float64\n"
     ]
    }
   ],
   "source": [
    "df = data.copy()\n",
    "\n",
    "df['yavka'] = (df[3] + df[4]) / df[1]\n",
    "df = df.groupby('tik')['yavka'].agg(min = 'min', max = 'max')\n",
    "df['tik'] = [i for i in range(1, 31)]\n",
    "\n",
    "print('ТИК: ', int(df.loc[(df['max'] - df['min']).idxmax()]['tik']))\n",
    "print(df.loc[(df['max'] - df['min']).idxmax()])"
   ]
  },
  {
   "cell_type": "markdown",
   "metadata": {},
   "source": [
    "посчитайте дисперсию по явке для каждого ТИК (учитывать УИК)"
   ]
  },
  {
   "cell_type": "code",
   "execution_count": 74,
   "metadata": {},
   "outputs": [
    {
     "data": {
      "text/plain": [
       "tik\n",
       "25    0.000918\n",
       "6     0.002066\n",
       "14    0.003073\n",
       "12    0.003322\n",
       "7     0.007111\n",
       "10    0.007409\n",
       "3     0.007414\n",
       "16    0.011347\n",
       "9     0.011893\n",
       "5     0.013662\n",
       "20    0.017357\n",
       "1     0.019318\n",
       "19    0.020470\n",
       "27    0.020633\n",
       "26    0.021985\n",
       "4     0.022281\n",
       "18    0.023069\n",
       "11    0.023945\n",
       "29    0.024439\n",
       "8     0.025984\n",
       "24    0.027113\n",
       "21    0.031019\n",
       "17    0.032932\n",
       "28    0.039207\n",
       "13    0.039350\n",
       "15    0.041609\n",
       "22    0.045004\n",
       "2     0.046018\n",
       "30    0.052078\n",
       "23    0.058670\n",
       "Name: yavka, dtype: float64"
      ]
     },
     "execution_count": 74,
     "metadata": {},
     "output_type": "execute_result"
    }
   ],
   "source": [
    "data['yavka'] = (data[3] + data[4]) / data[1]\n",
    "data.groupby('tik')['yavka'].var().sort_values()"
   ]
  },
  {
   "cell_type": "markdown",
   "metadata": {},
   "source": [
    "для каждого кандидата посчитайте таблицу: результат (%, округленный до целого) - количество УИК, на которых кандидат получил данный результат"
   ]
  },
  {
   "cell_type": "code",
   "execution_count": 94,
   "metadata": {},
   "outputs": [],
   "source": [
    "data['Am'] = (100 * data['Amosov'] / data[9]).map(int)\n",
    "data['Beg'] = (100 * data['Beglov'] / data[9]).map(int)\n",
    "data['Tih'] = (100 * data['Tihonova'] / data[9]).map(int)"
   ]
  },
  {
   "cell_type": "code",
   "execution_count": 95,
   "metadata": {},
   "outputs": [],
   "source": [
    "table_results = []\n",
    "table_results.append(['Amosov', data[data.Am == 16].shape[0]])\n",
    "table_results.append(['Beglov', data[data.Beg == 65].shape[0]])\n",
    "table_results.append(['Tikhonova', data[data.Tih == 17].shape[0]])\n",
    "table_results = pd.DataFrame(table_results)\n",
    "table_results.columns = ['Candidate', 'num_of_uiks_with_final_result']"
   ]
  },
  {
   "cell_type": "code",
   "execution_count": 96,
   "metadata": {},
   "outputs": [
    {
     "data": {
      "text/html": [
       "<div>\n",
       "<style scoped>\n",
       "    .dataframe tbody tr th:only-of-type {\n",
       "        vertical-align: middle;\n",
       "    }\n",
       "\n",
       "    .dataframe tbody tr th {\n",
       "        vertical-align: top;\n",
       "    }\n",
       "\n",
       "    .dataframe thead th {\n",
       "        text-align: right;\n",
       "    }\n",
       "</style>\n",
       "<table border=\"1\" class=\"dataframe\">\n",
       "  <thead>\n",
       "    <tr style=\"text-align: right;\">\n",
       "      <th></th>\n",
       "      <th>Candidate</th>\n",
       "      <th>num_of_uiks_with_final_result</th>\n",
       "    </tr>\n",
       "  </thead>\n",
       "  <tbody>\n",
       "    <tr>\n",
       "      <th>0</th>\n",
       "      <td>Amosov</td>\n",
       "      <td>148</td>\n",
       "    </tr>\n",
       "    <tr>\n",
       "      <th>1</th>\n",
       "      <td>Beglov</td>\n",
       "      <td>72</td>\n",
       "    </tr>\n",
       "    <tr>\n",
       "      <th>2</th>\n",
       "      <td>Tikhonova</td>\n",
       "      <td>192</td>\n",
       "    </tr>\n",
       "  </tbody>\n",
       "</table>\n",
       "</div>"
      ],
      "text/plain": [
       "   Candidate  num_of_uiks_with_final_result\n",
       "0     Amosov                            148\n",
       "1     Beglov                             72\n",
       "2  Tikhonova                            192"
      ]
     },
     "execution_count": 96,
     "metadata": {},
     "output_type": "execute_result"
    }
   ],
   "source": [
    "table_results"
   ]
  },
  {
   "cell_type": "markdown",
   "metadata": {},
   "source": [
    "визуализируйте отношение - явка на УИК  →  результат кандидата."
   ]
  },
  {
   "cell_type": "code",
   "execution_count": 103,
   "metadata": {},
   "outputs": [
    {
     "data": {
      "text/plain": [
       "Text(0, 0.5, 'Результат Тихоновой %')"
      ]
     },
     "execution_count": 103,
     "metadata": {},
     "output_type": "execute_result"
    },
    {
     "data": {
      "image/png": "[encoded data removed]",
      "text/plain": [
       "<Figure size 432x288 with 1 Axes>"
      ]
     },
     "metadata": {
      "needs_background": "light"
     },
     "output_type": "display_data"
    },
    {
     "data": {
      "image/png": "[encoded data removed]",
      "text/plain": [
       "<Figure size 432x288 with 1 Axes>"
      ]
     },
     "metadata": {
      "needs_background": "light"
     },
     "output_type": "display_data"
    },
    {
     "data": {
      "image/png": "[encoded data removed]",
      "text/plain": [
       "<Figure size 432x288 with 1 Axes>"
      ]
     },
     "metadata": {
      "needs_background": "light"
     },
     "output_type": "display_data"
    }
   ],
   "source": [
    "data['yavka'] = 100 * (data[3] + data[4]) / data[1]\n",
    "\n",
    "ax = data.plot(x = 'yavka', y = 'Am', kind='scatter')\n",
    "ax.set_xlabel('Явка %')\n",
    "ax.set_ylabel('Результат Амосова %')\n",
    "\n",
    "ax = data.plot(x = 'yavka', y = 'Beg', kind='scatter')\n",
    "ax.set_xlabel('Явка %')\n",
    "ax.set_ylabel('Результат Беглова %')\n",
    "\n",
    "ax = data.plot(x = 'yavka', y = 'Tih', kind='scatter')\n",
    "ax.set_xlabel('Явка %')\n",
    "ax.set_ylabel('Результат Тихоновой %')"
   ]
  },
  {
   "cell_type": "code",
   "execution_count": null,
   "metadata": {},
   "outputs": [],
   "source": []
  }
 ],
 "metadata": {
  "kernelspec": {
   "display_name": "Python 3",
   "language": "python",
   "name": "python3"
  },
  "language_info": {
   "codemirror_mode": {
    "name": "ipython",
    "version": 3
   },
   "file_extension": ".py",
   "mimetype": "text/x-python",
   "name": "python",
   "nbconvert_exporter": "python",
   "pygments_lexer": "ipython3",
   "version": "3.7.6"
  }
 },
 "nbformat": 4,
 "nbformat_minor": 4
}

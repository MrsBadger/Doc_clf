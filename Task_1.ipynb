{
 "cells": [
  {
   "cell_type": "markdown",
   "metadata": {},
   "source": [
    "# Задание 1\n",
    "\n",
    "[Свертка списка](https://ru.wikipedia.org/wiki/%D0%A1%D0%B2%D1%91%D1%80%D1%82%D0%BA%D0%B0_%D1%81%D0%BF%D0%B8%D1%81%D0%BA%D0%B0) -  это обобщенная операция над списком, c помощью которой можно преобразовать список в единое значение. Например, рассмотрим реализации свертки слева и свертки справа (левоассоциативную свертку и правоассоциативную свертку):"
   ]
  },
  {
   "cell_type": "code",
   "execution_count": 6,
   "metadata": {
    "jupyter": {
     "outputs_hidden": true
    }
   },
   "outputs": [],
   "source": [
    "def foldl(f, x0, lst):\n",
    "    if not lst:\n",
    "        return x0\n",
    "    return foldl(f, f(x0, lst[0]), lst[1:])\n",
    "\n",
    "def foldr(f, x0, lst):\n",
    "    if not lst:\n",
    "        return x0\n",
    "    return f(lst[0], foldr(f, x0, lst[1:]))"
   ]
  },
  {
   "cell_type": "code",
   "execution_count": 7,
   "metadata": {},
   "outputs": [
    {
     "data": {
      "text/plain": [
       "6"
      ]
     },
     "execution_count": 7,
     "metadata": {},
     "output_type": "execute_result"
    }
   ],
   "source": [
    "#сумма\n",
    "foldl(lambda x, y: x + y, 0, [1, 2, 3])"
   ]
  },
  {
   "cell_type": "code",
   "execution_count": 8,
   "metadata": {},
   "outputs": [
    {
     "data": {
      "text/plain": [
       "'123'"
      ]
     },
     "execution_count": 8,
     "metadata": {},
     "output_type": "execute_result"
    }
   ],
   "source": [
    "#конкатенация\n",
    "foldl(lambda x, y: '{}{}'.format(x, y), '', [1, 2, 3])"
   ]
  },
  {
   "cell_type": "code",
   "execution_count": 9,
   "metadata": {},
   "outputs": [
    {
     "data": {
      "text/plain": [
       "(0.16666666666666666, 1.5)"
      ]
     },
     "execution_count": 9,
     "metadata": {},
     "output_type": "execute_result"
    }
   ],
   "source": [
    "f = lambda x, y: x / y\n",
    "foldl(f, 1, [1, 2, 3]), \\\n",
    "foldr(f, 1, [1, 2, 3])"
   ]
  },
  {
   "cell_type": "markdown",
   "metadata": {},
   "source": [
    "Задача: реализовать foldl через foldr и наоборот. Вместо многоточий нужно вставить выражения, которые бы привели к нужному результату. Модифицировать сам список нельзя. "
   ]
  },
  {
   "cell_type": "code",
   "execution_count": 22,
   "metadata": {
    "jupyter": {
     "outputs_hidden": true
    }
   },
   "outputs": [
    {
     "data": {
      "text/plain": [
       "(6, '---------', '123')"
      ]
     },
     "execution_count": 22,
     "metadata": {},
     "output_type": "execute_result"
    }
   ],
   "source": [
    "def foldl2(f, x0, lst):\n",
    "    return foldr(lambda g, h: lambda x: h(f(x,g)), lambda x : x, lst)(x0)\n",
    "\n",
    "foldl2(lambda x, y: x + y, 0, [1, 2, 3]), '---------', foldl2(lambda x, y: '{}{}'.format(x, y), '', [1, 2, 3])"
   ]
  },
  {
   "cell_type": "code",
   "execution_count": 23,
   "metadata": {
    "jupyter": {
     "outputs_hidden": true
    }
   },
   "outputs": [
    {
     "data": {
      "text/plain": [
       "(6, '---------', '123')"
      ]
     },
     "execution_count": 23,
     "metadata": {},
     "output_type": "execute_result"
    }
   ],
   "source": [
    "def foldr2(f, x0, lst):\n",
    "    return foldl(lambda h, g: lambda x: h(f(g,x)), lambda x : x, lst)(x0)\n",
    "\n",
    "foldr2(lambda x, y: x + y, 0, [1, 2, 3]), '---------', foldr2(lambda x, y: '{}{}'.format(x, y), '', [1, 2, 3])"
   ]
  },
  {
   "cell_type": "code",
   "execution_count": 24,
   "metadata": {},
   "outputs": [
    {
     "data": {
      "text/plain": [
       "(0.16666666666666666, '---------', 1.5)"
      ]
     },
     "execution_count": 24,
     "metadata": {},
     "output_type": "execute_result"
    }
   ],
   "source": [
    "f = lambda x, y: x / y\n",
    "foldl2(f, 1, [1, 2, 3]), '---------', foldr2(f, 1, [1, 2, 3])"
   ]
  },
  {
   "cell_type": "markdown",
   "metadata": {},
   "source": [
    "# Задание 2\n",
    "\n",
    "нужно написать функцию, которая принимает две строки и проверяет, входит ли хотя бы одна перестановка второй строки в первую. Например:\n",
    "\n",
    "> a = 'abcrotm'\n",
    "> \n",
    "> b = 'tro'\n",
    "\n",
    "функция def check_inv(a, b) вернет True, так как 'rot' содержится в 'abcrotm'. Нужно подумать как можно более оптимальный алгоритм и оценить его сложность. "
   ]
  },
  {
   "cell_type": "code",
   "execution_count": 52,
   "metadata": {
    "jupyter": {
     "outputs_hidden": true
    }
   },
   "outputs": [],
   "source": [
    "def check_inv(a, b):\n",
    "    if (set(sorted(list(a))).issubset(sorted(list(b)))) | (set(sorted(list(b))).issubset(sorted(list(a)))):\n",
    "        return True\n",
    "    else:\n",
    "        return False"
   ]
  },
  {
   "cell_type": "code",
   "execution_count": 54,
   "metadata": {},
   "outputs": [
    {
     "data": {
      "text/plain": [
       "True"
      ]
     },
     "execution_count": 54,
     "metadata": {},
     "output_type": "execute_result"
    }
   ],
   "source": [
    "a = 'abcrotm'\n",
    "b = 'tro'\n",
    "\n",
    "check_inv(b, a)"
   ]
  },
  {
   "cell_type": "code",
   "execution_count": 56,
   "metadata": {},
   "outputs": [
    {
     "data": {
      "text/plain": [
       "False"
      ]
     },
     "execution_count": 56,
     "metadata": {},
     "output_type": "execute_result"
    }
   ],
   "source": [
    "a = 'asdfv'\n",
    "b = 'cnga'\n",
    "\n",
    "check_inv(a, b)"
   ]
  },
  {
   "cell_type": "code",
   "execution_count": 57,
   "metadata": {},
   "outputs": [
    {
     "data": {
      "text/plain": [
       "True"
      ]
     },
     "execution_count": 57,
     "metadata": {},
     "output_type": "execute_result"
    }
   ],
   "source": [
    "a = 'aangfh'\n",
    "b = 'gaf'\n",
    "\n",
    "check_inv(a, b)"
   ]
  },
  {
   "cell_type": "markdown",
   "metadata": {},
   "source": [
    "# Задание 3\n",
    "\n",
    "Реализовать бинарное дерево (класс Tree), в нём методы __repr__, __str__, __iter__ (итерация только по листьям)."
   ]
  },
  {
   "cell_type": "code",
   "execution_count": 20,
   "metadata": {},
   "outputs": [],
   "source": [
    "class Tree:\n",
    "    def __init__(self, value=None, left=None, right=None):\n",
    "        self.left = left\n",
    "        self.right = right\n",
    "        self.value = value\n",
    "        \n",
    "    def iter_left(self):\n",
    "        if self.left is not None:\n",
    "            yield from self.left\n",
    "        else: \n",
    "            yield self\n",
    "    \n",
    "    def iter_right(self):\n",
    "        if self.right is not None:\n",
    "            yield from self.right\n",
    "        else:\n",
    "            yield self\n",
    "    \n",
    "    def __iter__(self, direction='both'):\n",
    "        if self.left is not None and self.right is not None:\n",
    "            yield from self.left\n",
    "            yield from self.right\n",
    "        elif self.left is None and self.right is not None:\n",
    "            yield from self.right\n",
    "        elif self.left is not None and self.right is None:\n",
    "            yield from self.left\n",
    "        elif self.left is None and self.right is None:\n",
    "            yield self                \n",
    "    \n",
    "    def __str__(self):\n",
    "        return self.value\n",
    "    \n",
    "    def __repr__(self):\n",
    "        return f'{self.value}'\n",
    "    \n",
    "tree = Tree(0, Tree(1, Tree(3), Tree(4)),                             \n",
    "               Tree(2))"
   ]
  },
  {
   "cell_type": "code",
   "execution_count": 21,
   "metadata": {},
   "outputs": [
    {
     "data": {
      "text/plain": [
       "[3, 4, 2]"
      ]
     },
     "execution_count": 21,
     "metadata": {},
     "output_type": "execute_result"
    }
   ],
   "source": [
    "tree = Tree(0, Tree(1, Tree(3), Tree(4)),                             \n",
    "               Tree(2))\n",
    "\n",
    "list(tree)"
   ]
  },
  {
   "cell_type": "markdown",
   "metadata": {},
   "source": [
    "# Задание 4\n",
    "\n",
    "Реализовать простейший калькулятор математических выражений:\n",
    "- только целые числа\n",
    "- **+**, **\\-**, **\\***, **\\**\n",
    "- скобки\n",
    "\n",
    "**Можно использовать регулярные выражения**"
   ]
  },
  {
   "cell_type": "code",
   "execution_count": 24,
   "metadata": {},
   "outputs": [],
   "source": [
    "def parse(expr):\n",
    "    \n",
    "    buf = []\n",
    "\n",
    "    for val in expr.split(\" \"):\n",
    "        if(val[0] == \"(\"):\n",
    "            buf.append(\"(\")\n",
    "            buf.append(val[1:])\n",
    "        elif(val[-1] == \")\"):\n",
    "            buf.append(val[:-1])\n",
    "            buf.append(\")\")\n",
    "        else:\n",
    "            buf.append(val)\n",
    "\n",
    "    result = []\n",
    "    stack = []\n",
    "    high_priority = set([\"*\", \"/\"])\n",
    "    low_priority = set([\"+\", \"-\"])\n",
    "    \n",
    "    for val in buf:\n",
    "        if(val.isnumeric()):\n",
    "            result.append(val)\n",
    "        if(val == \"(\"):\n",
    "            stack.append(val)\n",
    "        if(val == \")\"):\n",
    "            while(stack[-1] != \"(\"):\n",
    "                result.append(stack.pop())\n",
    "            stack.pop()\n",
    "        if(val in low_priority):\n",
    "            while(len(stack) > 0 and stack[-1] in high_priority):\n",
    "                result.append(stack.pop())\n",
    "            stack.append(val)\n",
    "        if(val in high_priority):\n",
    "            stack.append(val)\n",
    "            \n",
    "    while(len(stack) > 0):\n",
    "        result.append(stack.pop())\n",
    "    \n",
    "    return result\n",
    "\n",
    "def calc(expr):\n",
    "    operations = {\n",
    "        \"+\": lambda x, y: x + y,\n",
    "        \"-\": lambda x, y: x - y,\n",
    "        \"*\": lambda x, y: x * y,\n",
    "        \"/\": lambda x, y: x / y\n",
    "    }\n",
    "    \n",
    "    expr = parse(expr)\n",
    "    stack = []\n",
    "    \n",
    "    for val in expr:\n",
    "        if(val.isnumeric()):\n",
    "            stack.append(int(val))\n",
    "        if(val in operations):\n",
    "            right = stack.pop()\n",
    "            left = stack.pop()\n",
    "            stack.append(operations[val](left, right))\n",
    "    return stack.pop()"
   ]
  },
  {
   "cell_type": "code",
   "execution_count": 27,
   "metadata": {
    "jupyter": {
     "outputs_hidden": true
    }
   },
   "outputs": [
    {
     "data": {
      "text/plain": [
       "4"
      ]
     },
     "execution_count": 27,
     "metadata": {},
     "output_type": "execute_result"
    }
   ],
   "source": [
    "e = '2 * (15 - 3 * 4) - 2'\n",
    "calc(e)"
   ]
  }
 ],
 "metadata": {
  "kernelspec": {
   "display_name": "Python 3",
   "language": "python",
   "name": "python3"
  },
  "language_info": {
   "codemirror_mode": {
    "name": "ipython",
    "version": 3
   },
   "file_extension": ".py",
   "mimetype": "text/x-python",
   "name": "python",
   "nbconvert_exporter": "python",
   "pygments_lexer": "ipython3",
   "version": "3.7.6"
  }
 },
 "nbformat": 4,
 "nbformat_minor": 4
}

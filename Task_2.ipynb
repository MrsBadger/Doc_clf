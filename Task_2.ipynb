{
 "cells": [
  {
   "cell_type": "code",
   "execution_count": 189,
   "metadata": {},
   "outputs": [],
   "source": [
    "import numpy as np\n",
    "import scipy as sp\n",
    "import matplotlib.pyplot as plt\n",
    "import seaborn as sns\n",
    "\n",
    "%matplotlib inline"
   ]
  },
  {
   "cell_type": "markdown",
   "metadata": {},
   "source": [
    "# 1. Работа с массивами NumPy"
   ]
  },
  {
   "cell_type": "markdown",
   "metadata": {},
   "source": [
    "**N. Все упражнения ниже нужно делать без использования циклов Python**\n",
    "\n",
    "**1.** Cоздать вектор\n",
    "\n",
    "$$(2, \\frac{2^2}{2}, \\ldots, \\frac{2^{20}}{20})$$\n",
    "\n",
    "Можно использовать функции [np.arange()](http://docs.scipy.org/doc/numpy/reference/generated/numpy.arange.html), [np.ones()](http://docs.scipy.org/doc/numpy/reference/generated/numpy.ones.html)"
   ]
  },
  {
   "cell_type": "code",
   "execution_count": 190,
   "metadata": {},
   "outputs": [
    {
     "data": {
      "text/plain": [
       "array([[2.00000000e+00, 2.00000000e+00, 2.66666667e+00, 4.00000000e+00,\n",
       "        6.40000000e+00, 1.06666667e+01, 1.82857143e+01, 3.20000000e+01,\n",
       "        5.68888889e+01, 1.02400000e+02, 1.86181818e+02, 3.41333333e+02,\n",
       "        6.30153846e+02, 1.17028571e+03, 2.18453333e+03, 4.09600000e+03,\n",
       "        7.71011765e+03, 1.45635556e+04, 2.75941053e+04, 5.24288000e+04]])"
      ]
     },
     "execution_count": 190,
     "metadata": {},
     "output_type": "execute_result"
    }
   ],
   "source": [
    "np.power(2 * np.ones(20), np.arange(1, 21)) * [1 / np.arange(1, 21)]"
   ]
  },
  {
   "cell_type": "markdown",
   "metadata": {},
   "source": [
    "**2.** Посчитать:\n",
    "\n",
    "$$\\sum\\limits_{i=0}^{5}{0.1^{3i}0.2^{4i}}$$\n"
   ]
  },
  {
   "cell_type": "code",
   "execution_count": 191,
   "metadata": {},
   "outputs": [
    {
     "data": {
      "text/plain": [
       "1.00000160000256"
      ]
     },
     "execution_count": 191,
     "metadata": {},
     "output_type": "execute_result"
    }
   ],
   "source": [
    "np.sum(((np.ones(6) * 0.1) ** (3 * np.arange(6))) * ((np.ones(6) * 0.2) ** (4 * np.arange(6))))"
   ]
  },
  {
   "cell_type": "markdown",
   "metadata": {},
   "source": [
    "**3.** Создать нулевую матрицe $8 \\times 8$, и заполнить её единицами в шахматном порядке."
   ]
  },
  {
   "cell_type": "code",
   "execution_count": 192,
   "metadata": {},
   "outputs": [
    {
     "name": "stdout",
     "output_type": "stream",
     "text": [
      "[[0 1 0 1 0 1 0 1]\n",
      " [1 0 1 0 1 0 1 0]\n",
      " [0 1 0 1 0 1 0 1]\n",
      " [1 0 1 0 1 0 1 0]\n",
      " [0 1 0 1 0 1 0 1]\n",
      " [1 0 1 0 1 0 1 0]\n",
      " [0 1 0 1 0 1 0 1]\n",
      " [1 0 1 0 1 0 1 0]]\n"
     ]
    }
   ],
   "source": [
    "A = np.zeros((8,8), dtype=int)\n",
    "\n",
    "A[1::2,::2] = 1\n",
    "A[::2,1::2] = 1\n",
    "\n",
    "print(A)"
   ]
  },
  {
   "cell_type": "markdown",
   "metadata": {},
   "source": [
    "**4.** Есть 5 точек в декартовой системе координат (в виде матрицы $X$ размерностью $5 \\times 2$), сконвертируйте эти точки в полярную систему координат."
   ]
  },
  {
   "cell_type": "code",
   "execution_count": 64,
   "metadata": {},
   "outputs": [],
   "source": [
    "X = np.random.random((5, 2))"
   ]
  },
  {
   "cell_type": "code",
   "execution_count": 115,
   "metadata": {},
   "outputs": [
    {
     "data": {
      "text/plain": [
       "(array([[0.56646741, 0.63599587],\n",
       "        [0.20018417, 0.20290178],\n",
       "        [0.40199762, 0.42514991],\n",
       "        [0.46057394, 0.4961638 ],\n",
       "        [0.17307299, 0.17482204],\n",
       "        [0.24421009, 0.24918355],\n",
       "        [0.58040328, 0.65574499],\n",
       "        [0.20226708, 0.20507136],\n",
       "        [0.72002812, 0.87711766],\n",
       "        [0.7340331 , 0.90220699]]),\n",
       " '---------',\n",
       " array([[0.91914942, 0.56646741],\n",
       "        [0.38509177, 0.20018417],\n",
       "        [0.44157598, 0.40199762],\n",
       "        [0.9359265 , 0.46057394],\n",
       "        [0.77175728, 0.17307299],\n",
       "        [0.5190565 , 0.24421009],\n",
       "        [0.74079355, 0.58040328],\n",
       "        [0.63794943, 0.20226708],\n",
       "        [1.07834178, 0.72002812],\n",
       "        [1.14213661, 0.7340331 ]]))"
      ]
     },
     "execution_count": 115,
     "metadata": {},
     "output_type": "execute_result"
    }
   ],
   "source": [
    "X1 = np.array([np.sqrt(X[:, 0] ** 2 + X[:, 1] ** 2), np.arctan(X[:, 1], X[:, 0])]).T\n",
    "X, '---------', X1"
   ]
  },
  {
   "cell_type": "markdown",
   "metadata": {},
   "source": [
    "**5.** Найдите индексы максимального элемента в случайной матрице $10 \\times 10$.\n",
    "\n",
    "Cм. [np.argmax()](http://docs.scipy.org/doc/numpy/reference/generated/numpy.argmax.html)."
   ]
  },
  {
   "cell_type": "code",
   "execution_count": 110,
   "metadata": {},
   "outputs": [
    {
     "data": {
      "text/plain": [
       "array([[0.13711626, 0.41410264, 0.69576406, 0.11908892, 0.58911935,\n",
       "        0.00621624, 0.58638626, 0.41582045, 0.77355183, 0.27747938],\n",
       "       [0.44396315, 0.9464265 , 0.31643089, 0.60194774, 0.09605937,\n",
       "        0.59492532, 0.6254692 , 0.34133784, 0.21633023, 0.89687329],\n",
       "       [0.55694315, 0.02604665, 0.9824774 , 0.45052706, 0.76982934,\n",
       "        0.54632151, 0.72385961, 0.43584285, 0.90913785, 0.14592419],\n",
       "       [0.57828512, 0.93669885, 0.76498894, 0.44674607, 0.50160657,\n",
       "        0.45088815, 0.2246755 , 0.95433474, 0.2262075 , 0.55415372],\n",
       "       [0.08297523, 0.39758253, 0.76579526, 0.79771223, 0.11248254,\n",
       "        0.84890829, 0.71532127, 0.59706767, 0.45821644, 0.12918372],\n",
       "       [0.6555671 , 0.97966661, 0.36832084, 0.96497534, 0.74938813,\n",
       "        0.71925671, 0.86819634, 0.38876992, 0.51992649, 0.67158016],\n",
       "       [0.14463777, 0.32217073, 0.91717839, 0.38150308, 0.92079822,\n",
       "        0.07958235, 0.94672972, 0.70740392, 0.0222762 , 0.26760889],\n",
       "       [0.16494802, 0.00659676, 0.95882271, 0.99403223, 0.2246106 ,\n",
       "        0.4750879 , 0.07876877, 0.92494682, 0.05408882, 0.7974882 ],\n",
       "       [0.86161716, 0.21665236, 0.01415121, 0.66954884, 0.69305196,\n",
       "        0.38914101, 0.11936442, 0.4918374 , 0.99609479, 0.80447537],\n",
       "       [0.7500315 , 0.79909262, 0.09120873, 0.18501645, 0.79534098,\n",
       "        0.44670292, 0.67555568, 0.31944666, 0.04479647, 0.60897964]])"
      ]
     },
     "execution_count": 110,
     "metadata": {},
     "output_type": "execute_result"
    }
   ],
   "source": [
    "X = np.random.random((10, 10))\n",
    "X"
   ]
  },
  {
   "cell_type": "code",
   "execution_count": 111,
   "metadata": {},
   "outputs": [
    {
     "data": {
      "text/plain": [
       "(8, 8)"
      ]
     },
     "execution_count": 111,
     "metadata": {},
     "output_type": "execute_result"
    }
   ],
   "source": [
    "np.unravel_index(np.argmax(X), X.shape)"
   ]
  },
  {
   "cell_type": "markdown",
   "metadata": {},
   "source": [
    "**6.** Есть 10 точек ($X$) и ещё одна ($y$). Найти в $X$ ближайшую к $y$ точку."
   ]
  },
  {
   "cell_type": "code",
   "execution_count": 121,
   "metadata": {},
   "outputs": [
    {
     "data": {
      "text/plain": [
       "(array([[0.07288331, 0.91257461],\n",
       "        [0.44685364, 0.73327327],\n",
       "        [0.35144297, 0.92302139],\n",
       "        [0.02016297, 0.28211606],\n",
       "        [0.76923405, 0.84160094],\n",
       "        [0.22683661, 0.08670328],\n",
       "        [0.01157543, 0.07465322],\n",
       "        [0.65361195, 0.70385517],\n",
       "        [0.39979846, 0.00655392],\n",
       "        [0.76764527, 0.52753947]]),\n",
       " '-----------',\n",
       " array([[0.38582199, 0.27597119]]))"
      ]
     },
     "execution_count": 121,
     "metadata": {},
     "output_type": "execute_result"
    }
   ],
   "source": [
    "X = np.random.random((10, 2))\n",
    "y = np.random.random((1, 2))\n",
    "X, '-----------', y"
   ]
  },
  {
   "cell_type": "code",
   "execution_count": 135,
   "metadata": {},
   "outputs": [
    {
     "data": {
      "text/plain": [
       "array([0.22683661, 0.08670328])"
      ]
     },
     "execution_count": 135,
     "metadata": {},
     "output_type": "execute_result"
    }
   ],
   "source": [
    "d = np.linalg.norm(X - y, axis=1)\n",
    "X[np.argmin(d), :]"
   ]
  },
  {
   "cell_type": "markdown",
   "metadata": {},
   "source": [
    "**7.** Дана функция:\n",
    "\n",
    "$$\n",
    " \\begin{cases}\n",
    "    x^2 + 2x + 6, & x < 0  \\\\\n",
    "    x + 6, & 0 \\le x \\le 2 \\\\\n",
    "    x^2 + 4x - 4, & x \\ge 2\n",
    " \\end{cases}\n",
    "$$\n",
    "\n",
    "Постройте массив из её значений на  $-3 \\le x \\le 3$."
   ]
  },
  {
   "cell_type": "code",
   "execution_count": 176,
   "metadata": {},
   "outputs": [
    {
     "data": {
      "text/plain": [
       "array([-0.20290203,  0.85242781, -0.46821968,  2.07500384,  2.5310068 ,\n",
       "        0.31661837,  0.18073459])"
      ]
     },
     "execution_count": 176,
     "metadata": {},
     "output_type": "execute_result"
    }
   ],
   "source": [
    "x = 5 * np.random.random(7) - 2\n",
    "x"
   ]
  },
  {
   "cell_type": "code",
   "execution_count": 177,
   "metadata": {},
   "outputs": [
    {
     "data": {
      "text/plain": [
       "array([ 5.63536517,  6.85242781,  5.2827903 ,  8.60565633, 12.53002265,\n",
       "        6.31661837,  6.18073459])"
      ]
     },
     "execution_count": 177,
     "metadata": {},
     "output_type": "execute_result"
    }
   ],
   "source": [
    "E1 = x < 0\n",
    "E2 = (0 <= x) & (x <= 2)\n",
    "E3 = x >= 2\n",
    "\n",
    "x[E1] = x[E1] ** 2 + 2 * x[E1] + 6\n",
    "x[E2] = x[E2] + 6\n",
    "x[E3] = x[E3] ** 2 + 4 * x[E3] - 4\n",
    "\n",
    "x"
   ]
  },
  {
   "cell_type": "markdown",
   "metadata": {},
   "source": [
    "**8.** Из каждого элемента матрицы вычесть среднее арифметическое от всех элементов в соответствующей строке (после чего среднее значение каждой строки должно равняться нулю).\n",
    "\n",
    "Cм. [np.mean()](http://docs.scipy.org/doc/numpy/reference/generated/numpy.mean.html)."
   ]
  },
  {
   "cell_type": "code",
   "execution_count": 180,
   "metadata": {},
   "outputs": [
    {
     "data": {
      "text/plain": [
       "array([[0.45668964, 0.1018795 , 0.06117318, 0.49582247, 0.43752882,\n",
       "        0.56903665, 0.59575705, 0.65423989, 0.09499091, 0.0755501 ],\n",
       "       [0.12888246, 0.29185106, 0.13195981, 0.63746156, 0.21178783,\n",
       "        0.75043741, 0.54128447, 0.59655283, 0.77326499, 0.12848669],\n",
       "       [0.61747214, 0.10376972, 0.08128547, 0.4052686 , 0.78692546,\n",
       "        0.76847138, 0.70628836, 0.84552383, 0.39013029, 0.94792424],\n",
       "       [0.74834061, 0.28236998, 0.40651308, 0.52771494, 0.10937965,\n",
       "        0.1034094 , 0.62160863, 0.97662136, 0.6128411 , 0.79671374],\n",
       "       [0.46656525, 0.03553264, 0.79711063, 0.15560808, 0.1420087 ,\n",
       "        0.22641032, 0.33927983, 0.78278378, 0.90306414, 0.52387309],\n",
       "       [0.85198809, 0.01322993, 0.01248989, 0.62643252, 0.43827463,\n",
       "        0.46937043, 0.9185639 , 0.96607399, 0.1701784 , 0.97217449],\n",
       "       [0.93110914, 0.25257386, 0.01277814, 0.0484139 , 0.31885727,\n",
       "        0.12282417, 0.01885927, 0.36463314, 0.11681163, 0.32210509],\n",
       "       [0.49615346, 0.56454327, 0.41173874, 0.64711896, 0.46726478,\n",
       "        0.8826646 , 0.11376594, 0.1092548 , 0.50826616, 0.65771547],\n",
       "       [0.47016681, 0.81537127, 0.90619368, 0.26554262, 0.26504761,\n",
       "        0.94816575, 0.40819022, 0.69422789, 0.83306902, 0.4220339 ],\n",
       "       [0.38435525, 0.68963534, 0.2968718 , 0.27365649, 0.51730902,\n",
       "        0.01292922, 0.03709909, 0.85361523, 0.90363004, 0.86137665]])"
      ]
     },
     "execution_count": 180,
     "metadata": {},
     "output_type": "execute_result"
    }
   ],
   "source": [
    "X = np.random.random((10, 10))\n",
    "X"
   ]
  },
  {
   "cell_type": "code",
   "execution_count": 183,
   "metadata": {},
   "outputs": [
    {
     "data": {
      "text/plain": [
       "array([ 5.55111512e-18,  1.11022302e-17,  1.11022302e-17,  0.00000000e+00,\n",
       "        4.85722573e-18,  1.11022302e-17, -1.11022302e-17,  4.16333634e-18,\n",
       "       -1.66533454e-17,  1.66533454e-17])"
      ]
     },
     "execution_count": 183,
     "metadata": {},
     "output_type": "execute_result"
    }
   ],
   "source": [
    "X = X - np.mean(X, axis=1).reshape(10, 1)\n",
    "np.mean(X, axis=1)"
   ]
  },
  {
   "cell_type": "markdown",
   "metadata": {},
   "source": [
    "**9.** Есть массив из 1000 чисел, полученных из генератора случайных чисел, имеющий нормальное распределение. Посчитайте выборочное среднее и выборочную дисперсию. "
   ]
  },
  {
   "cell_type": "code",
   "execution_count": 193,
   "metadata": {},
   "outputs": [],
   "source": [
    "X = np.random.normal(loc=5, scale=2., size=1000)"
   ]
  },
  {
   "cell_type": "code",
   "execution_count": 198,
   "metadata": {},
   "outputs": [
    {
     "data": {
      "text/plain": [
       "(4.9380824034994, 4.1564097206458355)"
      ]
     },
     "execution_count": 198,
     "metadata": {},
     "output_type": "execute_result"
    }
   ],
   "source": [
    "mean = (1/np.size(X)) * np.sum(X)\n",
    "variance = (1/np.size(X)) * np.sum((X - mean)**2)\n",
    "\n",
    "mean, variance"
   ]
  },
  {
   "cell_type": "markdown",
   "metadata": {},
   "source": [
    "**10.** Создать матрицу:\n",
    "\n",
    "$$\n",
    "\\begin{pmatrix}\n",
    "0 & 1 & 2 & 3 & 4 \\\\\n",
    "1 & 2 & 3 & 4 & 0 \\\\\n",
    "2 & 3 & 4 & 0 & 1 \\\\\n",
    "3 & 4 & 0 & 1 & 2 \\\\\n",
    "4 & 0 & 1 & 2 & 3\n",
    "\\end{pmatrix}\n",
    "$$"
   ]
  },
  {
   "cell_type": "code",
   "execution_count": 207,
   "metadata": {},
   "outputs": [
    {
     "data": {
      "text/plain": [
       "array([[0, 1, 2, 3, 4],\n",
       "       [1, 2, 3, 4, 0],\n",
       "       [2, 3, 4, 0, 1],\n",
       "       [3, 4, 0, 1, 2],\n",
       "       [4, 0, 1, 2, 3]])"
      ]
     },
     "execution_count": 207,
     "metadata": {},
     "output_type": "execute_result"
    }
   ],
   "source": [
    "X = np.array(5 * [np.arange(5)])\n",
    "X += X.T\n",
    "X %= 5\n",
    "X"
   ]
  },
  {
   "cell_type": "markdown",
   "metadata": {},
   "source": [
    "**11.** Есть следующий алгоритм семплинирования, на вход функции подается вектор из целых положительных чисел и число семплов."
   ]
  },
  {
   "cell_type": "code",
   "execution_count": 259,
   "metadata": {},
   "outputs": [
    {
     "data": {
      "text/plain": [
       "[0, 4, 0, 0, 0]"
      ]
     },
     "execution_count": 259,
     "metadata": {},
     "output_type": "execute_result"
    }
   ],
   "source": [
    "def sample(x, c):\n",
    "    assert len(x) > 0\n",
    "    \n",
    "    s = np.sum(x)\n",
    "    res = []\n",
    "    for _ in range(c):\n",
    "        val = s * np.random.random()\n",
    "        cur, idx = 0, 0        \n",
    "        while cur + x[idx] <= val:\n",
    "            cur += x[idx]\n",
    "            idx += 1\n",
    "            \n",
    "        res.append(idx)\n",
    "    return res\n",
    "\n",
    "            \n",
    "sample([50, 3, 1, 7, 20], 5)    "
   ]
  },
  {
   "cell_type": "markdown",
   "metadata": {},
   "source": [
    "Реализуйте данный алгоритм более оптимальным способом, без использования циклов."
   ]
  },
  {
   "cell_type": "code",
   "execution_count": 267,
   "metadata": {},
   "outputs": [
    {
     "data": {
      "text/plain": [
       "[0, 4, 0, 0, 0]"
      ]
     },
     "execution_count": 267,
     "metadata": {},
     "output_type": "execute_result"
    }
   ],
   "source": [
    "def another_sample(x, c):\n",
    "    assert len(x) > 0\n",
    "    \n",
    "    s = np.sum(x)\n",
    "    \n",
    "    A = np.stack(c * [np.cumsum(x)], axis=0)\n",
    "    val = s * np.random.random((c,1))\n",
    "    res = list(np.argmax(A >= val, axis=1))\n",
    "    return res\n",
    "    \n",
    "            \n",
    "another_sample([50, 3, 1, 7, 20], 5)    "
   ]
  }
 ],
 "metadata": {
  "kernelspec": {
   "display_name": "Python 3",
   "language": "python",
   "name": "python3"
  },
  "language_info": {
   "codemirror_mode": {
    "name": "ipython",
    "version": 3
   },
   "file_extension": ".py",
   "mimetype": "text/x-python",
   "name": "python",
   "nbconvert_exporter": "python",
   "pygments_lexer": "ipython3",
   "version": "3.7.6"
  }
 },
 "nbformat": 4,
 "nbformat_minor": 4
}
